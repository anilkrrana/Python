{
 "cells": [
  {
   "cell_type": "markdown",
   "id": "0a4a3289",
   "metadata": {},
   "source": [
    "# What is Tuple"
   ]
  },
  {
   "cell_type": "code",
   "execution_count": null,
   "id": "1d50a33f",
   "metadata": {},
   "outputs": [],
   "source": [
    "#Tuple is a Collection in Python\n",
    "#Tuple is immutable(No Changeable at Runtime)\n",
    "#Tuple allows multiple datatype valuess to be store\n",
    "#Tuple is working on index value starting from zero(0)."
   ]
  },
  {
   "cell_type": "markdown",
   "id": "1c4b35aa",
   "metadata": {},
   "source": [
    "# Create Tuple"
   ]
  },
  {
   "cell_type": "code",
   "execution_count": 1,
   "id": "78b4956c",
   "metadata": {},
   "outputs": [
    {
     "name": "stdout",
     "output_type": "stream",
     "text": [
      "Current Tuple:  ('Apple', 'Orange', 1, 2, 3, 10.5, 6.4, 6)\n"
     ]
    }
   ],
   "source": [
    "#creating a tuple\n",
    "\n",
    "t1 = (\"Apple\",\"Orange\",1,2,3,10.5,6.4,6)\n",
    "print(\"Current Tuple: \",t1)"
   ]
  },
  {
   "cell_type": "markdown",
   "id": "6918c257",
   "metadata": {},
   "source": [
    "# How to check a length of Tuple"
   ]
  },
  {
   "cell_type": "code",
   "execution_count": 2,
   "id": "298011d9",
   "metadata": {},
   "outputs": [
    {
     "name": "stdout",
     "output_type": "stream",
     "text": [
      "Size :  6\n"
     ]
    }
   ],
   "source": [
    "t2 = (1,2,3,4,5,6)\n",
    "#checking the length of Tuple\n",
    "print(\"Size : \",len(t2))"
   ]
  },
  {
   "cell_type": "markdown",
   "id": "fa0c9e58",
   "metadata": {},
   "source": [
    "# Indexing/Slicing"
   ]
  },
  {
   "cell_type": "code",
   "execution_count": 8,
   "id": "218403a3",
   "metadata": {},
   "outputs": [
    {
     "name": "stdout",
     "output_type": "stream",
     "text": [
      "Current Tuple:  ('Apple', 'Orange', 1, 2, 3, 10.5, 6.4, 6)\n",
      "Index 1 value:  Orange\n",
      "Index between 0 to 5:  ('Apple', 'Orange', 1, 2, 3, 10.5)\n",
      "Last Value :  6\n",
      "Value Till index 6 :  ('Apple', 'Orange', 1, 2, 3, 10.5, 6.4)\n"
     ]
    }
   ],
   "source": [
    "t1 = (\"Apple\",\"Orange\",1,2,3,10.5,6.4,6)\n",
    "print(\"Current Tuple: \",t1)\n",
    "\n",
    "#Accessing the value by using index\n",
    "print(\"Index 1 value: \",t1[1])\n",
    "\n",
    "#Accessing the value between index 1 to 6\n",
    "print(\"Index between 0 to 5: \",t1[0:6])\n",
    "\n",
    "#Access the value from last into tuple\n",
    "print(\"Last Value : \",t1[-1])\n",
    "\n",
    "#Access the value till index 7\n",
    "print(\"Value Till index 6 : \",t1[:7])"
   ]
  },
  {
   "cell_type": "markdown",
   "id": "7875952e",
   "metadata": {},
   "source": [
    "# Convert Tuple into List"
   ]
  },
  {
   "cell_type": "code",
   "execution_count": 11,
   "id": "5d75cdff",
   "metadata": {},
   "outputs": [
    {
     "name": "stdout",
     "output_type": "stream",
     "text": [
      "Current Tuple:  ('Apple', 'Orange', 1, 2, 3, 10.5, 6.4, 6)\n",
      "After Convert:  ['Apple', 'Orange', 1, 2, 3, 10.5, 6.4, 6]\n"
     ]
    }
   ],
   "source": [
    "t1 = (\"Apple\",\"Orange\",1,2,3,10.5,6.4,6)\n",
    "print(\"Current Tuple: \",t1) #Before change\n",
    "\n",
    "x = list(t1)\n",
    "print(\"After Convert: \",x)"
   ]
  },
  {
   "cell_type": "markdown",
   "id": "ea62fdd1",
   "metadata": {},
   "source": [
    "# Tuple Constructor"
   ]
  },
  {
   "cell_type": "code",
   "execution_count": 13,
   "id": "4e8f8665",
   "metadata": {},
   "outputs": [
    {
     "name": "stdout",
     "output_type": "stream",
     "text": [
      "('Apple', 'Mango', 'Cherry')\n"
     ]
    }
   ],
   "source": [
    "t2 = tuple((\"Apple\",\"Mango\",\"Cherry\"))#Note the double round-brackets\n",
    "print(t2)"
   ]
  },
  {
   "cell_type": "markdown",
   "id": "de616d5e",
   "metadata": {},
   "source": [
    "# Add item but after converting tuple into list"
   ]
  },
  {
   "cell_type": "code",
   "execution_count": 18,
   "id": "efad7ccf",
   "metadata": {},
   "outputs": [
    {
     "name": "stdout",
     "output_type": "stream",
     "text": [
      "Current Tuple:  ('Apple', 'Orange', 'Cherry')\n",
      "<class 'tuple'>\n",
      "['Apple', 'Orange', 'Cherry']\n",
      "<class 'list'>\n",
      "Updated List:  ['Apple', 'Orange', 'Fruits']\n",
      "Updated Tuple:  ('Apple', 'Orange', 'Fruits')\n"
     ]
    }
   ],
   "source": [
    "t3 = (\"Apple\",\"Orange\",\"Cherry\")\n",
    "print(\"Current Tuple: \",t3) #Before Convert\n",
    "print(type(t3))\n",
    "\n",
    "#Convert tuple into list\n",
    "x = list(t3)\n",
    "print(x) #After Convert\n",
    "print(type(x))\n",
    "\n",
    "#Add item into list\n",
    "x[2] = \"Fruits\"\n",
    "print(\"Updated List: \",x)\n",
    "\n",
    "# Convert List into tuple again\n",
    "y = tuple(x)\n",
    "print(\"Updated Tuple: \",y)"
   ]
  },
  {
   "cell_type": "markdown",
   "id": "2ea96f30",
   "metadata": {},
   "source": [
    "# Loops with Tuple"
   ]
  },
  {
   "cell_type": "code",
   "execution_count": 19,
   "id": "c9e330bd",
   "metadata": {},
   "outputs": [
    {
     "name": "stdout",
     "output_type": "stream",
     "text": [
      "Apple\n",
      "Mango\n",
      "Orange\n"
     ]
    }
   ],
   "source": [
    "# For loop with Tuple\n",
    "\n",
    "t2 = (\"Apple\",\"Mango\",\"Orange\")\n",
    "for i in t2:\n",
    "    print(i)"
   ]
  },
  {
   "cell_type": "code",
   "execution_count": 1,
   "id": "9d666fdf",
   "metadata": {},
   "outputs": [
    {
     "name": "stdout",
     "output_type": "stream",
     "text": [
      "Apple\n",
      "Mango\n",
      "Orange\n",
      "loop finish\n"
     ]
    }
   ],
   "source": [
    "# While Loop with Tuple\n",
    "\n",
    "t2 = (\"Apple\",\"Mango\",\"Orange\")\n",
    "i = 0\n",
    "\n",
    "while i<len(t2):\n",
    "    print(t2[i])\n",
    "    i=i+1\n",
    "else:\n",
    "    print(\"loop finish\")\n"
   ]
  },
  {
   "cell_type": "markdown",
   "id": "c74801ea",
   "metadata": {},
   "source": [
    "# How to Compare Tuples"
   ]
  },
  {
   "cell_type": "code",
   "execution_count": 4,
   "id": "791de442",
   "metadata": {},
   "outputs": [
    {
     "name": "stdout",
     "output_type": "stream",
     "text": [
      "False\n",
      "True\n",
      "False\n"
     ]
    }
   ],
   "source": [
    "tuple1 = (1,2,3)\n",
    "tuple2 = (1,2,4)\n",
    "\n",
    "# Tuple1 is equal to tuple2\n",
    "print(tuple1==tuple2)\n",
    "\n",
    "#Tuple1 Less than from tuple2\n",
    "print(tuple1<tuple2)\n",
    "\n",
    "#Tuple1 is greater than tuple2\n",
    "print(tuple1>tuple2)"
   ]
  },
  {
   "cell_type": "code",
   "execution_count": null,
   "id": "b8d36398",
   "metadata": {},
   "outputs": [],
   "source": []
  }
 ],
 "metadata": {
  "kernelspec": {
   "display_name": "Python 3 (ipykernel)",
   "language": "python",
   "name": "python3"
  },
  "language_info": {
   "codemirror_mode": {
    "name": "ipython",
    "version": 3
   },
   "file_extension": ".py",
   "mimetype": "text/x-python",
   "name": "python",
   "nbconvert_exporter": "python",
   "pygments_lexer": "ipython3",
   "version": "3.10.0"
  }
 },
 "nbformat": 4,
 "nbformat_minor": 5
}
