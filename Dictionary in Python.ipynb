{
 "cells": [
  {
   "cell_type": "markdown",
   "id": "565a11ab",
   "metadata": {},
   "source": [
    "# What is Dictionary?"
   ]
  },
  {
   "cell_type": "code",
   "execution_count": null,
   "id": "40f0c6ce",
   "metadata": {},
   "outputs": [],
   "source": [
    "#Dictionary is a collection of python, which works on key and value pair.\n",
    "#Dictionary follows the ordered container or collection.\n",
    "#Dictionary has immutable key and value could be immutable and mutable both which depends upon value you are storing."
   ]
  },
  {
   "cell_type": "markdown",
   "id": "4464bebb",
   "metadata": {},
   "source": [
    "# Creating a Dictionary"
   ]
  },
  {
   "cell_type": "code",
   "execution_count": 2,
   "id": "fe4ac703",
   "metadata": {},
   "outputs": [
    {
     "name": "stdout",
     "output_type": "stream",
     "text": [
      "{1: 'Apple', 2: 'Mango', 3: 'Orange', 4: 'Apple', 'A': 'B'}\n",
      "<class 'dict'>\n"
     ]
    }
   ],
   "source": [
    "d1 = {1:\"Apple\",2:\"Mango\",3:\"Orange\",4:\"Apple\",'A':'B'}\n",
    "print(d1)\n",
    "\n",
    "#Datatype of Dictionary\n",
    "print(type(d1))"
   ]
  },
  {
   "cell_type": "markdown",
   "id": "9d0ffa23",
   "metadata": {},
   "source": [
    "# List into Dictionary Store"
   ]
  },
  {
   "cell_type": "code",
   "execution_count": 4,
   "id": "a4d21c59",
   "metadata": {},
   "outputs": [
    {
     "name": "stdout",
     "output_type": "stream",
     "text": [
      "{1: 'Python', 2: 'Java', 'fruit': ['Apple', 'Orange', 'Mango']}\n",
      "<class 'dict'>\n"
     ]
    }
   ],
   "source": [
    "#Storing a list into Dictionary on a single key\n",
    "d2 = {1:\"Python\",2:\"Java\",\"fruit\":[\"Apple\",\"Orange\",\"Mango\"]}\n",
    "print(d2)\n",
    "print(type(d2))"
   ]
  },
  {
   "cell_type": "markdown",
   "id": "9bd7131c",
   "metadata": {},
   "source": [
    "# Tuple into Dictionary Store"
   ]
  },
  {
   "cell_type": "code",
   "execution_count": 5,
   "id": "5fd16c9e",
   "metadata": {},
   "outputs": [
    {
     "name": "stdout",
     "output_type": "stream",
     "text": [
      "{1: 'C++', 2: 'Java', 'Language': ('Python', 'Java', 'Php')}\n"
     ]
    }
   ],
   "source": [
    "#Storing a tuple into Dictionary on a Single key\n",
    "d3 = {1:\"C++\",2:\"Java\",\"Language\":(\"Python\",\"Java\",\"Php\")}\n",
    "print(d3)"
   ]
  },
  {
   "cell_type": "markdown",
   "id": "d8801429",
   "metadata": {},
   "source": [
    "# Access the value of Dictionary"
   ]
  },
  {
   "cell_type": "code",
   "execution_count": 23,
   "id": "bc0f8d03",
   "metadata": {},
   "outputs": [
    {
     "name": "stdout",
     "output_type": "stream",
     "text": [
      "Current Dict :  {1: 'Apple', 2: 'Mango', 3: 'Orange', 4: 'Apple', 'A': 'B'}\n",
      "Orange\n",
      "Apple\n",
      "dict_items([(1, 'Apple'), (2, 'Mango'), (3, 'Orange'), (4, 'Apple'), ('A', 'B')])\n",
      "Keys :  dict_keys([1, 2, 3, 4, 'A'])\n",
      "Values :  dict_values(['Apple', 'Mango', 'Orange', 'Apple', 'B'])\n"
     ]
    }
   ],
   "source": [
    "d1 = {1:\"Apple\",2:\"Mango\",3:\"Orange\",4:\"Apple\",'A':'B'}\n",
    "print(\"Current Dict : \",d1)\n",
    "\n",
    "# Access the value using key\n",
    "x = d1[3]\n",
    "print(x)\n",
    "\n",
    "# Access the value using get()\n",
    "y = d1.get(1)\n",
    "print(y)\n",
    "\n",
    "# Access the value using item()\n",
    "z = d1.items()\n",
    "print(z)\n",
    "\n",
    "# Access the only keys frorm Dictionary\n",
    "k = d1.keys()\n",
    "print(\"Keys : \",k)\n",
    "\n",
    "# Access the Values from Dictionary\n",
    "p = d1.values()\n",
    "print(\"Values : \",p)"
   ]
  },
  {
   "cell_type": "markdown",
   "id": "895a84f8",
   "metadata": {},
   "source": [
    "# Change the value"
   ]
  },
  {
   "cell_type": "code",
   "execution_count": 11,
   "id": "5f39950c",
   "metadata": {},
   "outputs": [
    {
     "name": "stdout",
     "output_type": "stream",
     "text": [
      "Update Dict :  {1: 'Apple', 2: 'Mango', 3: 'Anil', 4: 'Apple', 'A': 'B'}\n"
     ]
    }
   ],
   "source": [
    "d1 = {1:\"Apple\",2:\"Mango\",3:\"Orange\",4:\"Apple\",'A':'B'}\n",
    "d1[3] = \"Anil\"\n",
    "print(\"Update Dict : \",d1)"
   ]
  },
  {
   "cell_type": "code",
   "execution_count": 13,
   "id": "dda815e3",
   "metadata": {},
   "outputs": [
    {
     "name": "stdout",
     "output_type": "stream",
     "text": [
      "Current Dict :  {1: 'Apple', 2: 'Mango', 3: 'Anil', 4: 'Apple', 'A': 'B'}\n",
      "Update Dict :  {1: 'Apple', 2: 'Banana', 3: 'Anil', 4: 'Apple', 'A': 'B'}\n"
     ]
    }
   ],
   "source": [
    "#Update Dictionary by using Update method()\n",
    "print(\"Current Dict : \",d1)\n",
    "\n",
    "#Update dictionary by using Update method\n",
    "d1.update({2:\"Banana\"})\n",
    "print(\"Update Dict : \",d1)"
   ]
  },
  {
   "cell_type": "markdown",
   "id": "1590ceb7",
   "metadata": {},
   "source": [
    "# Remove values from Dictionary"
   ]
  },
  {
   "cell_type": "code",
   "execution_count": 19,
   "id": "33513047",
   "metadata": {},
   "outputs": [
    {
     "name": "stdout",
     "output_type": "stream",
     "text": [
      "Current Dict :  {1: 'Apple', 2: 'Mango', 3: 'Orange', 4: 'Apple', 'A': 'B'}\n",
      "Update Dict 1 :  {1: 'Apple', 3: 'Orange', 4: 'Apple', 'A': 'B'}\n",
      "Update Dict 2 :  {1: 'Apple', 3: 'Orange', 4: 'Apple'}\n",
      "Update Dict 3 :  {3: 'Orange', 4: 'Apple'}\n",
      "Update Dict 4 :  {}\n"
     ]
    }
   ],
   "source": [
    "# Using pop()\n",
    "d1 = {1:\"Apple\",2:\"Mango\",3:\"Orange\",4:\"Apple\",'A':'B'}\n",
    "print(\"Current Dict : \",d1)\n",
    "\n",
    "d1.pop(2)\n",
    "print(\"Update Dict 1 : \",d1)\n",
    "\n",
    "# Using popitem()\n",
    "\n",
    "d1.popitem()\n",
    "print(\"Update Dict 2 : \",d1)\n",
    "\n",
    "# Using del()\n",
    "\n",
    "del d1[1]\n",
    "print(\"Update Dict 3 : \",d1)\n",
    "\n",
    "# Using clear()\n",
    "d1.clear()\n",
    "print(\"Update Dict 4 : \",d1)"
   ]
  },
  {
   "cell_type": "code",
   "execution_count": null,
   "id": "4849a486",
   "metadata": {},
   "outputs": [],
   "source": []
  }
 ],
 "metadata": {
  "kernelspec": {
   "display_name": "Python 3 (ipykernel)",
   "language": "python",
   "name": "python3"
  },
  "language_info": {
   "codemirror_mode": {
    "name": "ipython",
    "version": 3
   },
   "file_extension": ".py",
   "mimetype": "text/x-python",
   "name": "python",
   "nbconvert_exporter": "python",
   "pygments_lexer": "ipython3",
   "version": "3.10.0"
  }
 },
 "nbformat": 4,
 "nbformat_minor": 5
}
