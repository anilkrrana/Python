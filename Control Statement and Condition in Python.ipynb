{
 "cells": [
  {
   "cell_type": "markdown",
   "id": "9d82de3d",
   "metadata": {},
   "source": [
    "# Conditional statement"
   ]
  },
  {
   "cell_type": "code",
   "execution_count": 10,
   "id": "bfb232d8",
   "metadata": {},
   "outputs": [
    {
     "name": "stdout",
     "output_type": "stream",
     "text": [
      "value of variable is 10\n",
      "Bye\n"
     ]
    }
   ],
   "source": [
    "#Simple if\n",
    "var = 10 \n",
    "if (var == 10): #your condition ois getting true\n",
    "    print(\"value of variable is 10\")\n",
    "    print (\"Bye\")\n",
    "\n"
   ]
  },
  {
   "cell_type": "code",
   "execution_count": 1,
   "id": "59c5d23e",
   "metadata": {},
   "outputs": [],
   "source": [
    "a = 25\n",
    "if (a>=30): #your condition is getting false \n",
    "    print(\"value of variable is 25\")\n",
    "    print(\"bye\")"
   ]
  },
  {
   "cell_type": "code",
   "execution_count": 6,
   "id": "b522fbbc",
   "metadata": {},
   "outputs": [
    {
     "name": "stdout",
     "output_type": "stream",
     "text": [
      "Enter the value of A: 45\n",
      "Enter the value of B: 5\n",
      "A is greater\n"
     ]
    }
   ],
   "source": [
    "#if/else condition\n",
    "a=int(input(\"Enter the value of A: \"))\n",
    "b=int(input(\"Enter the value of B: \"))\n",
    "if a<b:\n",
    "    print(\"B is greater\")\n",
    "else:\n",
    "    print(\"A is greater\")\n",
    "    \n"
   ]
  },
  {
   "cell_type": "code",
   "execution_count": 5,
   "id": "33c58293",
   "metadata": {},
   "outputs": [
    {
     "name": "stdout",
     "output_type": "stream",
     "text": [
      "b is greater\n"
     ]
    }
   ],
   "source": [
    "#static Value\n",
    "a=4\n",
    "b=8\n",
    "if a>b:\n",
    "    print(\"a is greater\")\n",
    "else:\n",
    "    print(\"b is greater\")"
   ]
  },
  {
   "cell_type": "code",
   "execution_count": 15,
   "id": "f3abb2e0",
   "metadata": {},
   "outputs": [
    {
     "name": "stdout",
     "output_type": "stream",
     "text": [
      "Enter your age: 20\n",
      "Enter your weight: 59\n",
      "You can donate the blood\n"
     ]
    }
   ],
   "source": [
    "'''Create a Blood donate criteria within Nested if.\n",
    "Age>=18\n",
    "weight>=50\n",
    "If both age and weight match with criteria then the user can donate the blood\n",
    "If age is less than 18 show one msg under age\n",
    "If weight is less than 50 show one msg under weight\n",
    "If age does not match then it should ask for weight'''\n",
    "\n",
    "age=int(input(\"Enter your age: \"))\n",
    "weg=int(input(\"Enter your weight: \"))\n",
    "if age >=18:\n",
    "    if weg >=50:\n",
    "        print(\"You can donate the blood\")\n",
    "    else:\n",
    "        print(\"Under weight\")\n",
    "else:\n",
    "    print(\"Under age\")\n"
   ]
  },
  {
   "cell_type": "code",
   "execution_count": null,
   "id": "66c2e323",
   "metadata": {},
   "outputs": [],
   "source": []
  }
 ],
 "metadata": {
  "kernelspec": {
   "display_name": "Python 3 (ipykernel)",
   "language": "python",
   "name": "python3"
  },
  "language_info": {
   "codemirror_mode": {
    "name": "ipython",
    "version": 3
   },
   "file_extension": ".py",
   "mimetype": "text/x-python",
   "name": "python",
   "nbconvert_exporter": "python",
   "pygments_lexer": "ipython3",
   "version": "3.10.0"
  }
 },
 "nbformat": 4,
 "nbformat_minor": 5
}
