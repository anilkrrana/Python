{
 "cells": [
  {
   "cell_type": "markdown",
   "id": "5424ab6a",
   "metadata": {},
   "source": [
    "# What is Function"
   ]
  },
  {
   "cell_type": "code",
   "execution_count": null,
   "id": "3b9584fc",
   "metadata": {},
   "outputs": [],
   "source": [
    "#Function is a block of code which only runs when is called.\n",
    "#Function is also used for reusability of code.\n",
    "#Function is start with \"def\" keyword."
   ]
  },
  {
   "cell_type": "markdown",
   "id": "04dadfc1",
   "metadata": {},
   "source": [
    "# Types of Functions"
   ]
  },
  {
   "cell_type": "code",
   "execution_count": null,
   "id": "d96c271c",
   "metadata": {},
   "outputs": [],
   "source": [
    "#Built-in Functiion\n",
    "#User defined Function\n",
    "#Anonymous Function"
   ]
  },
  {
   "cell_type": "markdown",
   "id": "cf6d7f24",
   "metadata": {},
   "source": [
    "# In-Built Function"
   ]
  },
  {
   "cell_type": "code",
   "execution_count": 2,
   "id": "07c523ba",
   "metadata": {},
   "outputs": [
    {
     "name": "stdout",
     "output_type": "stream",
     "text": [
      "Hello\n",
      "1\n",
      "2\n",
      "3\n",
      "4\n",
      "54.9\n"
     ]
    }
   ],
   "source": [
    "# Print() Function\n",
    "\n",
    "print(\"Hello\")\n",
    "\n",
    "# range()\n",
    "\n",
    "for i in range (1,5):\n",
    "    print(i)\n",
    "# len()\n",
    "\n",
    "# Round()\n",
    "\n",
    "x = round(54.897,1)\n",
    "print(x)\n",
    "\n",
    "\n",
    "# Max()\n",
    "# Min()"
   ]
  },
  {
   "cell_type": "markdown",
   "id": "b3c29027",
   "metadata": {},
   "source": [
    "# User Defined Function"
   ]
  },
  {
   "cell_type": "code",
   "execution_count": 3,
   "id": "43fef0d6",
   "metadata": {},
   "outputs": [
    {
     "name": "stdout",
     "output_type": "stream",
     "text": [
      "hello\n"
     ]
    }
   ],
   "source": [
    "# Creating a function:\n",
    "\n",
    "def myfunction():\n",
    "    print(\"hello\")\n",
    "    \n",
    "#Calling a function\n",
    "myfunction()"
   ]
  },
  {
   "cell_type": "markdown",
   "id": "f8738331",
   "metadata": {},
   "source": [
    "# Function with one Arguments"
   ]
  },
  {
   "cell_type": "code",
   "execution_count": 4,
   "id": "519a6068",
   "metadata": {},
   "outputs": [
    {
     "name": "stdout",
     "output_type": "stream",
     "text": [
      "A :  18\n"
     ]
    }
   ],
   "source": [
    "# Creating a function\n",
    "def myfunction(a):\n",
    "    print(\"A : \",a)\n",
    "    \n",
    "#calling a function\n",
    "myfunction(18)  #passing argument as a 18"
   ]
  },
  {
   "cell_type": "markdown",
   "id": "c873c53c",
   "metadata": {},
   "source": [
    "# Multiple Arguments into Function"
   ]
  },
  {
   "cell_type": "code",
   "execution_count": 5,
   "id": "8d8f57f1",
   "metadata": {},
   "outputs": [
    {
     "name": "stdout",
     "output_type": "stream",
     "text": [
      "A:  10\n",
      "B:  15\n"
     ]
    }
   ],
   "source": [
    "#Creating a Function\n",
    "def myfunction(a,b):\n",
    "    print(\"A: \",a)\n",
    "    print(\"B: \",b)\n",
    "    \n",
    "#Calling a function\n",
    "myfunction(10,15) #Passing 2 arguments\n"
   ]
  },
  {
   "cell_type": "markdown",
   "id": "6a284022",
   "metadata": {},
   "source": [
    "# Keywords Arguments"
   ]
  },
  {
   "cell_type": "code",
   "execution_count": 2,
   "id": "7e102175",
   "metadata": {},
   "outputs": [
    {
     "name": "stdout",
     "output_type": "stream",
     "text": [
      "Youngest Child is : Raghav\n"
     ]
    }
   ],
   "source": [
    "#Creating a function\n",
    "\n",
    "def myfunction(child3,child2,child1):\n",
    "    print(\"Youngest Child is : \"+child3)\n",
    "    \n",
    "#Calling a Function\n",
    "myfunction(child1=\"Anil\",child2=\"Ashish\",child3=\"Raghav\")"
   ]
  },
  {
   "cell_type": "markdown",
   "id": "eafd8324",
   "metadata": {},
   "source": [
    "# Default Parameter Value"
   ]
  },
  {
   "cell_type": "code",
   "execution_count": 4,
   "id": "7aa71cb6",
   "metadata": {},
   "outputs": [
    {
     "name": "stdout",
     "output_type": "stream",
     "text": [
      "i am from : Madhyapradesh\n",
      "i am from : Bihar\n",
      "i am from : Uttar Pradesh\n",
      "i am from : Jharkhand\n"
     ]
    }
   ],
   "source": [
    "# Creating a function\n",
    "\n",
    "def myfunction(state=\"Jharkhand\"):\n",
    "    print(\"i am from : \"+state)\n",
    "    \n",
    "# Calling a function\n",
    "myfunction(\"Madhyapradesh\")\n",
    "myfunction(\"Bihar\")\n",
    "myfunction(\"Uttar Pradesh\")\n",
    "myfunction()"
   ]
  },
  {
   "cell_type": "markdown",
   "id": "38eef23b",
   "metadata": {},
   "source": [
    "# Passing a list into function"
   ]
  },
  {
   "cell_type": "code",
   "execution_count": null,
   "id": "883ce36d",
   "metadata": {},
   "outputs": [],
   "source": [
    "# Creating a function\n",
    "def myfunction()"
   ]
  }
 ],
 "metadata": {
  "kernelspec": {
   "display_name": "Python 3 (ipykernel)",
   "language": "python",
   "name": "python3"
  },
  "language_info": {
   "codemirror_mode": {
    "name": "ipython",
    "version": 3
   },
   "file_extension": ".py",
   "mimetype": "text/x-python",
   "name": "python",
   "nbconvert_exporter": "python",
   "pygments_lexer": "ipython3",
   "version": "3.10.0"
  }
 },
 "nbformat": 4,
 "nbformat_minor": 5
}
