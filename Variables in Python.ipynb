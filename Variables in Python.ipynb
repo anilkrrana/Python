{
 "cells": [
  {
   "cell_type": "markdown",
   "id": "ceb299d1",
   "metadata": {},
   "source": [
    "# Creating a variable"
   ]
  },
  {
   "cell_type": "code",
   "execution_count": 8,
   "id": "0a999f9c",
   "metadata": {},
   "outputs": [
    {
     "name": "stdout",
     "output_type": "stream",
     "text": [
      "19\n",
      "<class 'int'>\n",
      "10.5\n",
      "<class 'float'>\n",
      "Python\n",
      "<class 'str'>\n",
      "[1, 2, 3, 4, 5]\n",
      "<class 'list'>\n",
      "(1, 2, 3, 4, 5)\n",
      "<class 'tuple'>\n"
     ]
    }
   ],
   "source": [
    "#integer value to the variable\n",
    "a = 19\n",
    "print(a)\n",
    "print(type(a))\n",
    "\n",
    "\n",
    "#Float value to the variable\n",
    "b = 10.5\n",
    "print(b)\n",
    "print(type(b))\n",
    "\n",
    "\n",
    "#String value to the variable\n",
    "c = \"Python\"\n",
    "print(c)\n",
    "print(type(c))\n",
    "\n",
    "\n",
    "#List store in variable\n",
    "\n",
    "l1 = [1,2,3,4,5]\n",
    "print(l1)\n",
    "print(type(l1))\n",
    "\n",
    "#Tuple store in variable\n",
    "\n",
    "l1 = (1,2,3,4,5)\n",
    "print(l1)\n",
    "print(type(l1))"
   ]
  },
  {
   "cell_type": "markdown",
   "id": "bcd39ab1",
   "metadata": {},
   "source": [
    "# Type Conversion\n"
   ]
  },
  {
   "cell_type": "code",
   "execution_count": 15,
   "id": "5de791c7",
   "metadata": {},
   "outputs": [
    {
     "name": "stdout",
     "output_type": "stream",
     "text": [
      "Enter the value of A : 45\n",
      "A :  45\n",
      "<class 'int'>\n"
     ]
    }
   ],
   "source": [
    "# Converting from one data type to another data type is called Type Conversion/Type Casting\n",
    "a = int(input(\"Enter the value of A : \"))\n",
    "print(\"A : \",a)\n",
    "print(type(a))\n"
   ]
  },
  {
   "cell_type": "code",
   "execution_count": null,
   "id": "52f1ea70",
   "metadata": {},
   "outputs": [],
   "source": []
  },
  {
   "cell_type": "code",
   "execution_count": null,
   "id": "badb533f",
   "metadata": {},
   "outputs": [],
   "source": []
  }
 ],
 "metadata": {
  "kernelspec": {
   "display_name": "Python 3 (ipykernel)",
   "language": "python",
   "name": "python3"
  },
  "language_info": {
   "codemirror_mode": {
    "name": "ipython",
    "version": 3
   },
   "file_extension": ".py",
   "mimetype": "text/x-python",
   "name": "python",
   "nbconvert_exporter": "python",
   "pygments_lexer": "ipython3",
   "version": "3.10.0"
  }
 },
 "nbformat": 4,
 "nbformat_minor": 5
}
