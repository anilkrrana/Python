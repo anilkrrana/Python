{
 "cells": [
  {
   "cell_type": "markdown",
   "id": "6a2fe6ce",
   "metadata": {},
   "source": [
    "# While Loop\n"
   ]
  },
  {
   "cell_type": "code",
   "execution_count": 3,
   "id": "1ac6ca74",
   "metadata": {},
   "outputs": [
    {
     "name": "stdout",
     "output_type": "stream",
     "text": [
      "N: 9\n",
      "Sum:  9\n",
      "Sum:  17\n",
      "Sum:  24\n",
      "Sum:  30\n",
      "Sum:  35\n",
      "Sum:  39\n",
      "Sum:  42\n",
      "Sum:  44\n",
      "Sum:  45\n"
     ]
    }
   ],
   "source": [
    "#Print this series (5,9,14,13,15) by using while loop\n",
    "#5,9,14,13,15\n",
    "sum= 0\n",
    "n=int(input(\"N: \"))\n",
    "while n>0:\n",
    "    sum= sum+n\n",
    "    n-= 1\n",
    "    print(\"Sum: \", sum)"
   ]
  },
  {
   "cell_type": "code",
   "execution_count": 2,
   "id": "e7f37cca",
   "metadata": {},
   "outputs": [
    {
     "name": "stdout",
     "output_type": "stream",
     "text": [
      "N: 5\n",
      "sum:  5\n",
      "sum:  9\n",
      "sum:  12\n",
      "sum:  14\n",
      "sum:  15\n",
      "Loop error\n",
      "Ok Thank you\n"
     ]
    }
   ],
   "source": [
    "#while loop with else part\n",
    "sum=0\n",
    "n=int(input(\"N: \"))\n",
    "while n>0:\n",
    "    sum= sum+n\n",
    "    n-=1\n",
    "    print(\"sum: \",sum)\n",
    "else:\n",
    "    print(\"Loop error\")\n",
    "print(\"Ok Thank you\")"
   ]
  },
  {
   "cell_type": "markdown",
   "id": "251dda72",
   "metadata": {},
   "source": [
    "# Simple For Loop"
   ]
  },
  {
   "cell_type": "code",
   "execution_count": 6,
   "id": "bf7089e0",
   "metadata": {},
   "outputs": [
    {
     "name": "stdout",
     "output_type": "stream",
     "text": [
      "Python = 6\n",
      "Java = 4\n",
      "Angular = 7\n"
     ]
    }
   ],
   "source": [
    "word=[\"Python\",\"Java\",\"Angular\"]\n",
    "for i in word:\n",
    "    print(i,'=',len(i))"
   ]
  },
  {
   "cell_type": "markdown",
   "id": "d296c508",
   "metadata": {},
   "source": [
    "# Nested for Loop"
   ]
  },
  {
   "cell_type": "code",
   "execution_count": 8,
   "id": "94679937",
   "metadata": {},
   "outputs": [
    {
     "name": "stdout",
     "output_type": "stream",
     "text": [
      "* \n",
      "* * \n",
      "* * * \n",
      "* * * * \n",
      "* * * * * \n"
     ]
    }
   ],
   "source": [
    "'''*\n",
    "   **\n",
    "   ***\n",
    "   ****\n",
    "   *****\n",
    "   ******'''\n",
    "#range (start point, end point, step(jump))\n",
    "for i in range(1,6):\n",
    "    #for j in range(1,6):\n",
    "    for j in range(i):\n",
    "        print(\"*\",end=\" \")\n",
    "    print()"
   ]
  },
  {
   "cell_type": "code",
   "execution_count": null,
   "id": "cfb7bea8",
   "metadata": {},
   "outputs": [],
   "source": [
    "for i in range(5,0,-1):\n",
    "    for j in range(i):\n",
    "        print(\"*\",end=\" \")\n",
    "    print()"
   ]
  },
  {
   "cell_type": "code",
   "execution_count": null,
   "id": "ae3f9c54",
   "metadata": {},
   "outputs": [],
   "source": []
  }
 ],
 "metadata": {
  "kernelspec": {
   "display_name": "Python 3 (ipykernel)",
   "language": "python",
   "name": "python3"
  },
  "language_info": {
   "codemirror_mode": {
    "name": "ipython",
    "version": 3
   },
   "file_extension": ".py",
   "mimetype": "text/x-python",
   "name": "python",
   "nbconvert_exporter": "python",
   "pygments_lexer": "ipython3",
   "version": "3.10.0"
  }
 },
 "nbformat": 4,
 "nbformat_minor": 5
}
