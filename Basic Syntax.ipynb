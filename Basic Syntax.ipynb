{
 "cells": [
  {
   "cell_type": "markdown",
   "id": "a3af13c8",
   "metadata": {},
   "source": [
    "# Basic Functon"
   ]
  },
  {
   "cell_type": "code",
   "execution_count": 2,
   "id": "92db7a74",
   "metadata": {},
   "outputs": [
    {
     "name": "stdout",
     "output_type": "stream",
     "text": [
      "Hello\n",
      "123654\n"
     ]
    }
   ],
   "source": [
    "#Using print()\n",
    "\n",
    "print(\"Hello\")\n",
    "\n",
    "\n",
    "print(123654)"
   ]
  },
  {
   "cell_type": "code",
   "execution_count": 5,
   "id": "33400ad8",
   "metadata": {},
   "outputs": [
    {
     "name": "stdout",
     "output_type": "stream",
     "text": [
      "<class 'int'>\n",
      "<class 'str'>\n",
      "<class 'float'>\n"
     ]
    }
   ],
   "source": [
    "#Using Type()\n",
    "\n",
    "x = 23\n",
    "print(type(x))\n",
    "\n",
    "y = \"Python\"\n",
    "print(type(y))\n",
    "\n",
    "z = 10.7\n",
    "print(type(z))\n"
   ]
  },
  {
   "cell_type": "code",
   "execution_count": 1,
   "id": "52bea305",
   "metadata": {},
   "outputs": [
    {
     "name": "stdout",
     "output_type": "stream",
     "text": [
      "Enter the value of A : 25\n",
      "A:  25\n"
     ]
    }
   ],
   "source": [
    "#Using input()\n",
    "a = input(\"Enter the value of A : \")\n",
    "print(\"A: \", a)\n"
   ]
  },
  {
   "cell_type": "code",
   "execution_count": null,
   "id": "95586117",
   "metadata": {},
   "outputs": [],
   "source": []
  }
 ],
 "metadata": {
  "kernelspec": {
   "display_name": "Python 3 (ipykernel)",
   "language": "python",
   "name": "python3"
  },
  "language_info": {
   "codemirror_mode": {
    "name": "ipython",
    "version": 3
   },
   "file_extension": ".py",
   "mimetype": "text/x-python",
   "name": "python",
   "nbconvert_exporter": "python",
   "pygments_lexer": "ipython3",
   "version": "3.10.0"
  }
 },
 "nbformat": 4,
 "nbformat_minor": 5
}
