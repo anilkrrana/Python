{
 "cells": [
  {
   "cell_type": "markdown",
   "id": "9982c785",
   "metadata": {},
   "source": [
    "###### Creating a List"
   ]
  },
  {
   "cell_type": "code",
   "execution_count": 2,
   "id": "b6c00e29",
   "metadata": {},
   "outputs": [
    {
     "name": "stdout",
     "output_type": "stream",
     "text": [
      "Integer List :  [1, 2, 3, 4, 5, 6]\n",
      "String List:  ['Apple', 'Mango', 'Orange']\n"
     ]
    }
   ],
   "source": [
    "#This list store the integer values\n",
    "l1 = [1,2,3,4,5,6,]\n",
    "#This list store the string values\n",
    "l2 = [\"Apple\",\"Mango\",\"Orange\"]\n",
    "\n",
    "print(\"Integer List : \",l1)\n",
    "print(\"String List: \",l2)"
   ]
  },
  {
   "cell_type": "markdown",
   "id": "b91f7a0c",
   "metadata": {},
   "source": [
    "# Duplicate Value in List"
   ]
  },
  {
   "cell_type": "code",
   "execution_count": 1,
   "id": "a461871c",
   "metadata": {},
   "outputs": [
    {
     "name": "stdout",
     "output_type": "stream",
     "text": [
      "Duplicate value:  [1, 2, 3, 4, 5, 1, 2, 3]\n"
     ]
    }
   ],
   "source": [
    "l1 = [1,2,3,4,5,1,2,3]\n",
    "print(\"Duplicate value: \",l1)"
   ]
  },
  {
   "cell_type": "code",
   "execution_count": 2,
   "id": "e1e42372",
   "metadata": {},
   "outputs": [
    {
     "name": "stdout",
     "output_type": "stream",
     "text": [
      "['Apple', 'Mango', 'Orange']\n"
     ]
    }
   ],
   "source": [
    "l1 = list((\"Apple\",\"Mango\",\"Orange\")) #Note there is Double Brackets\n",
    "print(l1)"
   ]
  },
  {
   "cell_type": "markdown",
   "id": "5f1d34e9",
   "metadata": {},
   "source": [
    "# List Slicing "
   ]
  },
  {
   "cell_type": "code",
   "execution_count": 7,
   "id": "7c24e78a",
   "metadata": {},
   "outputs": [
    {
     "name": "stdout",
     "output_type": "stream",
     "text": [
      "Current List:  [1, 2, 3, 4, 5, 6, 7, 8, 9, 10]\n",
      "Index 1 value :  2\n",
      "Index Between 1 to 6 :  [2, 3, 4, 5, 6]\n",
      "Index Till 6 :  [1, 2, 3, 4, 5, 6]\n",
      "Last Value :  10\n"
     ]
    }
   ],
   "source": [
    "l1 = [1,2,3,4,5,6,7,8,9,10]\n",
    "print(\"Current List: \",l1)\n",
    "\n",
    "#access the value of index 1\n",
    "print(\"Index 1 value : \",l1[1])\n",
    "\n",
    "#Access the value between index 1 to 6\n",
    "print(\"Index Between 1 to 6 : \",l1[1:6])\n",
    "\n",
    "#Access the value till index 6\n",
    "print(\"Index Till 6 : \",l1[:6])\n",
    "\n",
    "#Access the Last value from list\n",
    "print(\"Last Value : \",l1[-1])"
   ]
  },
  {
   "cell_type": "markdown",
   "id": "847cca13",
   "metadata": {},
   "source": [
    "# List Item Change "
   ]
  },
  {
   "cell_type": "code",
   "execution_count": 9,
   "id": "347bbfa3",
   "metadata": {},
   "outputs": [
    {
     "name": "stdout",
     "output_type": "stream",
     "text": [
      "Current List :  ['Apple', 'Banana', 'Cherry', 'Mango']\n",
      "Updated List :  ['Apple', 'Grapes', 'Gauva', 'Mango']\n"
     ]
    }
   ],
   "source": [
    "x = [\"Apple\",\"Banana\",\"Cherry\",\"Mango\"]\n",
    "print(\"Current List : \",x)\n",
    "\n",
    "#Change the item in list\n",
    "x[1:3] = [\"Grapes\",\"Gauva\"]\n",
    "print(\"Updated List : \",x)"
   ]
  },
  {
   "cell_type": "markdown",
   "id": "730ba23c",
   "metadata": {},
   "source": [
    "# Insert into List"
   ]
  },
  {
   "cell_type": "code",
   "execution_count": 10,
   "id": "430a401d",
   "metadata": {},
   "outputs": [
    {
     "name": "stdout",
     "output_type": "stream",
     "text": [
      "Current List :  [1, 2, 3, 4, 5, 6]\n",
      "Updated List :  [1, 2, 'Python', 3, 4, 5, 6]\n"
     ]
    }
   ],
   "source": [
    "l1 = [1,2,3,4,5,6]\n",
    "print(\"Current List : \",l1)\n",
    "\n",
    "#Updating the list using insert method\n",
    "l1.insert(2,\"Python\")\n",
    "print(\"Updated List : \",l1)"
   ]
  },
  {
   "cell_type": "markdown",
   "id": "6b6a3fac",
   "metadata": {},
   "source": [
    "# Extend the List"
   ]
  },
  {
   "cell_type": "code",
   "execution_count": 12,
   "id": "dc157517",
   "metadata": {},
   "outputs": [
    {
     "name": "stdout",
     "output_type": "stream",
     "text": [
      "[1, 2, 3, 4, 5, 'A', 'B', 'C', 'D', 'E']\n"
     ]
    }
   ],
   "source": [
    "l1 = [1,2,3,4,5]\n",
    "l2 = ['A','B','C','D','E']\n",
    "\n",
    "#Extending the list of l2 into list of l1\n",
    "l1.extend(l2)\n",
    "print(l1)"
   ]
  },
  {
   "cell_type": "markdown",
   "id": "8893a68c",
   "metadata": {},
   "source": [
    "# Remove item from List"
   ]
  },
  {
   "cell_type": "code",
   "execution_count": 13,
   "id": "17a0d3ae",
   "metadata": {},
   "outputs": [
    {
     "name": "stdout",
     "output_type": "stream",
     "text": [
      "Current list :  [1, 2, 3, 4, 5, 6]\n",
      "Update List:  [1, 2, 4, 5, 6]\n"
     ]
    }
   ],
   "source": [
    "#remove() : This method is used to remove element from list\n",
    "\n",
    "l1 = [1,2,3,4,5,6]\n",
    "print(\"Current list : \",l1)\n",
    "\n",
    "#Removing the item using remove method\n",
    "l1.remove(3)\n",
    "print(\"Update List: \",l1)\n"
   ]
  },
  {
   "cell_type": "code",
   "execution_count": 15,
   "id": "3f501bee",
   "metadata": {},
   "outputs": [
    {
     "name": "stdout",
     "output_type": "stream",
     "text": [
      "Current List:  [1, 2, 4, 5]\n",
      "Update List :  [1, 2, 4]\n"
     ]
    }
   ],
   "source": [
    "#pop() : This method is used to remove last value from the list\n",
    "\n",
    "l1 : [1,2,3,4,5,6]\n",
    "print(\"Current List: \",l1)\n",
    "\n",
    "#Removing item using pop method\n",
    "l1.pop()\n",
    "print(\"Update List : \",l1)"
   ]
  },
  {
   "cell_type": "code",
   "execution_count": 16,
   "id": "021ce74c",
   "metadata": {},
   "outputs": [
    {
     "name": "stdout",
     "output_type": "stream",
     "text": [
      "Current List :  [1, 2, 3, 4, 5, 6]\n",
      "Update List :  [1, 2, 4, 5, 6]\n"
     ]
    }
   ],
   "source": [
    "#del() : This method is used to remove item from the index\n",
    "\n",
    "l1 = [1,2,3,4,5,6]\n",
    "print(\"Current List : \",l1)\n",
    "\n",
    "#remove item using del method\n",
    "del l1[2]\n",
    "print(\"Update List : \",l1)"
   ]
  },
  {
   "cell_type": "code",
   "execution_count": 18,
   "id": "cf986497",
   "metadata": {},
   "outputs": [
    {
     "name": "stdout",
     "output_type": "stream",
     "text": [
      "Current List :  [1, 2, 3, 4, 5, 6]\n",
      "Updated List :  []\n"
     ]
    }
   ],
   "source": [
    "#clear() : This method is used to clear the list\n",
    "l1 = [1,2,3,4,5,6]\n",
    "print(\"Current List : \",l1)\n",
    "\n",
    "#remove item using clear method\n",
    "l1.clear()\n",
    "print(\"Updated List : \",l1)"
   ]
  },
  {
   "cell_type": "code",
   "execution_count": 2,
   "id": "d7ee604c",
   "metadata": {},
   "outputs": [
    {
     "name": "stdout",
     "output_type": "stream",
     "text": [
      "[1, 2, 3, 4, 5, 6]\n",
      "[1, 2, 3, 4, 5, 6, 6]\n"
     ]
    }
   ],
   "source": [
    "a = [1,2,3,4,5]\n",
    "a.append(6)\n",
    "print(a)\n",
    "\n",
    "a.append(6)\n",
    "print(a)"
   ]
  },
  {
   "cell_type": "code",
   "execution_count": 3,
   "id": "a3a9ea61",
   "metadata": {},
   "outputs": [
    {
     "name": "stdout",
     "output_type": "stream",
     "text": [
      "Hello-Python\n"
     ]
    }
   ],
   "source": [
    "my_list = [\"Hello\",\"Python\"]\n",
    "print(\"-\".join(my_list))"
   ]
  },
  {
   "cell_type": "code",
   "execution_count": 5,
   "id": "2ab611c6",
   "metadata": {},
   "outputs": [
    {
     "name": "stdout",
     "output_type": "stream",
     "text": [
      "Y\n",
      "16\n"
     ]
    }
   ],
   "source": [
    "alist = [\"PYnative\", [4,8,12,16]]\n",
    "print(alist[0][1])\n",
    "print(alist[1][3])"
   ]
  },
  {
   "cell_type": "code",
   "execution_count": null,
   "id": "57f45a43",
   "metadata": {},
   "outputs": [],
   "source": []
  }
 ],
 "metadata": {
  "kernelspec": {
   "display_name": "Python 3 (ipykernel)",
   "language": "python",
   "name": "python3"
  },
  "language_info": {
   "codemirror_mode": {
    "name": "ipython",
    "version": 3
   },
   "file_extension": ".py",
   "mimetype": "text/x-python",
   "name": "python",
   "nbconvert_exporter": "python",
   "pygments_lexer": "ipython3",
   "version": "3.10.0"
  }
 },
 "nbformat": 4,
 "nbformat_minor": 5
}
